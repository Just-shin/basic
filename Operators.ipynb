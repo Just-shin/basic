{
 "cells": [
  {
   "cell_type": "code",
   "execution_count": null,
   "id": "2a5567cf-6caf-4de9-94c9-e78e6372ebac",
   "metadata": {},
   "outputs": [],
   "source": [
    "#Different types of operators"
   ]
  },
  {
   "cell_type": "code",
   "execution_count": 2,
   "id": "f263514a-54a8-4eaf-b3e6-3a9ec2af6b76",
   "metadata": {},
   "outputs": [
    {
     "name": "stdout",
     "output_type": "stream",
     "text": [
      "11\n"
     ]
    }
   ],
   "source": [
    "#arithmetic operators - addition\n",
    "a = 5\n",
    "b = 6\n",
    "a+b #this only can execute\n",
    "print(a+b) # another way to execute a+b"
   ]
  },
  {
   "cell_type": "code",
   "execution_count": 3,
   "id": "150cd50a-e510-4db0-961a-600231cf3d9e",
   "metadata": {},
   "outputs": [
    {
     "data": {
      "text/plain": [
       "4"
      ]
     },
     "execution_count": 3,
     "metadata": {},
     "output_type": "execute_result"
    }
   ],
   "source": [
    "#substraction - \n",
    "a = 6\n",
    "b = 2\n",
    "a-b"
   ]
  },
  {
   "cell_type": "code",
   "execution_count": 4,
   "id": "87d7a667-dac5-46a4-8aa8-ca6831c351ee",
   "metadata": {},
   "outputs": [
    {
     "data": {
      "text/plain": [
       "75"
      ]
     },
     "execution_count": 4,
     "metadata": {},
     "output_type": "execute_result"
    }
   ],
   "source": [
    "#multiplication\n",
    "x = 5\n",
    "y = 15\n",
    "x*y"
   ]
  },
  {
   "cell_type": "code",
   "execution_count": 5,
   "id": "e982046b-c87f-46f5-a2c2-45dc59dcf038",
   "metadata": {},
   "outputs": [
    {
     "data": {
      "text/plain": [
       "0.5"
      ]
     },
     "execution_count": 5,
     "metadata": {},
     "output_type": "execute_result"
    }
   ],
   "source": [
    "#division\n",
    "a = 5\n",
    "b =10\n",
    "a/b"
   ]
  },
  {
   "cell_type": "code",
   "execution_count": 7,
   "id": "ee0bdfcf-ed53-40d3-9d0e-4ef0eee81ed4",
   "metadata": {},
   "outputs": [
    {
     "data": {
      "text/plain": [
       "float"
      ]
     },
     "execution_count": 7,
     "metadata": {},
     "output_type": "execute_result"
    }
   ],
   "source": [
    "type(a/b)"
   ]
  },
  {
   "cell_type": "code",
   "execution_count": 8,
   "id": "a6bd7a7a-2b9d-4d19-b05a-3ce3c9f9686b",
   "metadata": {},
   "outputs": [
    {
     "data": {
      "text/plain": [
       "7"
      ]
     },
     "execution_count": 8,
     "metadata": {},
     "output_type": "execute_result"
    }
   ],
   "source": [
    "a = 15 // 2 #floor division\n",
    "a"
   ]
  },
  {
   "cell_type": "code",
   "execution_count": 9,
   "id": "b58615ab-e2a2-4fb8-9b0f-4fc895d36eb5",
   "metadata": {},
   "outputs": [
    {
     "name": "stdout",
     "output_type": "stream",
     "text": [
      "0\n"
     ]
    }
   ],
   "source": [
    "#modulus\n",
    "a = 20 % 5\n",
    "print(a)"
   ]
  },
  {
   "cell_type": "code",
   "execution_count": 11,
   "id": "49ed71b4-ee10-48b9-9c13-19be1e66bc12",
   "metadata": {},
   "outputs": [
    {
     "data": {
      "text/plain": [
       "8"
      ]
     },
     "execution_count": 11,
     "metadata": {},
     "output_type": "execute_result"
    }
   ],
   "source": [
    "a = 2 ** 3 #exponentiation\n",
    "a"
   ]
  },
  {
   "cell_type": "code",
   "execution_count": 13,
   "id": "d2f9738b-a441-416f-8dcf-b0f384f788d6",
   "metadata": {},
   "outputs": [
    {
     "data": {
      "text/plain": [
       "False"
      ]
     },
     "execution_count": 13,
     "metadata": {},
     "output_type": "execute_result"
    }
   ],
   "source": [
    "##comparision operators\n",
    "x == y"
   ]
  },
  {
   "cell_type": "code",
   "execution_count": 14,
   "id": "d1302def-ae92-4423-8163-45a67d474db4",
   "metadata": {},
   "outputs": [
    {
     "data": {
      "text/plain": [
       "True"
      ]
     },
     "execution_count": 14,
     "metadata": {},
     "output_type": "execute_result"
    }
   ],
   "source": [
    "x != y "
   ]
  },
  {
   "cell_type": "code",
   "execution_count": 18,
   "id": "51e110a9-a8ad-4878-b415-d61a2b4cdcec",
   "metadata": {},
   "outputs": [
    {
     "data": {
      "text/plain": [
       "True"
      ]
     },
     "execution_count": 18,
     "metadata": {},
     "output_type": "execute_result"
    }
   ],
   "source": [
    "x = 5\n",
    "y = 2\n",
    "x > y"
   ]
  },
  {
   "cell_type": "code",
   "execution_count": 20,
   "id": "736c3140-751d-4757-accd-05c8c6cc4fa6",
   "metadata": {},
   "outputs": [
    {
     "data": {
      "text/plain": [
       "True"
      ]
     },
     "execution_count": 20,
     "metadata": {},
     "output_type": "execute_result"
    }
   ],
   "source": [
    "x = 5\n",
    "y = 3\n",
    "y < x"
   ]
  },
  {
   "cell_type": "code",
   "execution_count": 22,
   "id": "ff91b0c0-4082-4799-895e-fe422b48b93f",
   "metadata": {},
   "outputs": [
    {
     "data": {
      "text/plain": [
       "True"
      ]
     },
     "execution_count": 22,
     "metadata": {},
     "output_type": "execute_result"
    }
   ],
   "source": [
    "x = 10\n",
    "y = 9\n",
    "x >= y"
   ]
  },
  {
   "cell_type": "code",
   "execution_count": 23,
   "id": "c530ab73-2ad1-48e7-86e6-ef17ca4b24d7",
   "metadata": {},
   "outputs": [
    {
     "data": {
      "text/plain": [
       "False"
      ]
     },
     "execution_count": 23,
     "metadata": {},
     "output_type": "execute_result"
    }
   ],
   "source": [
    "x = 10\n",
    "y = 8\n",
    "x <= y"
   ]
  },
  {
   "cell_type": "code",
   "execution_count": 24,
   "id": "2289ac98-b032-4020-bbf9-5961e769fe01",
   "metadata": {},
   "outputs": [
    {
     "data": {
      "text/plain": [
       "True"
      ]
     },
     "execution_count": 24,
     "metadata": {},
     "output_type": "execute_result"
    }
   ],
   "source": [
    "##logical operators\n",
    "x > 1 and y < 10"
   ]
  },
  {
   "cell_type": "code",
   "execution_count": 25,
   "id": "934ab556-9aa7-4414-838f-336e2f125da1",
   "metadata": {},
   "outputs": [
    {
     "data": {
      "text/plain": [
       "True"
      ]
     },
     "execution_count": 25,
     "metadata": {},
     "output_type": "execute_result"
    }
   ],
   "source": [
    "x > 0 or y < 0"
   ]
  },
  {
   "cell_type": "code",
   "execution_count": 26,
   "id": "4e56a0e7-bb26-4c6b-93de-b19b843c746e",
   "metadata": {},
   "outputs": [
    {
     "data": {
      "text/plain": [
       "False"
      ]
     },
     "execution_count": 26,
     "metadata": {},
     "output_type": "execute_result"
    }
   ],
   "source": [
    "x = 5 # assignment operators\n",
    "y = 0\n",
    "not x > 0"
   ]
  },
  {
   "cell_type": "code",
   "execution_count": 29,
   "id": "54e750aa-5886-4830-8c0a-be4fadbfb53e",
   "metadata": {},
   "outputs": [
    {
     "data": {
      "text/plain": [
       "True"
      ]
     },
     "execution_count": 29,
     "metadata": {},
     "output_type": "execute_result"
    }
   ],
   "source": [
    "##membership operators\n",
    "a = \"kolkata\"\n",
    "'a' in 'kolkata'"
   ]
  },
  {
   "cell_type": "code",
   "execution_count": 30,
   "id": "d28f02d0-d78f-4a5e-98bf-37fc0c61e1ac",
   "metadata": {},
   "outputs": [
    {
     "data": {
      "text/plain": [
       "True"
      ]
     },
     "execution_count": 30,
     "metadata": {},
     "output_type": "execute_result"
    }
   ],
   "source": [
    "a = \"Kolkata\"\n",
    "'x' not in 'kolkata'"
   ]
  },
  {
   "cell_type": "code",
   "execution_count": 31,
   "id": "bad77971-88f1-4812-a18c-338d2f36243a",
   "metadata": {},
   "outputs": [
    {
     "data": {
      "text/plain": [
       "6"
      ]
     },
     "execution_count": 31,
     "metadata": {},
     "output_type": "execute_result"
    }
   ],
   "source": [
    "#bitwise\n",
    "5 ^ 3 #XOR\n"
   ]
  },
  {
   "cell_type": "code",
   "execution_count": 34,
   "id": "aa4f383f-c5d7-453c-9b38-7a1238600abc",
   "metadata": {},
   "outputs": [
    {
     "data": {
      "text/plain": [
       "'0b110'"
      ]
     },
     "execution_count": 34,
     "metadata": {},
     "output_type": "execute_result"
    }
   ],
   "source": [
    "bin(6)"
   ]
  },
  {
   "cell_type": "code",
   "execution_count": 37,
   "id": "39a0e625-0222-4fe6-ab06-8b443de13af0",
   "metadata": {},
   "outputs": [
    {
     "data": {
      "text/plain": [
       "4"
      ]
     },
     "execution_count": 37,
     "metadata": {},
     "output_type": "execute_result"
    }
   ],
   "source": [
    "35 >> 3 # right shift"
   ]
  },
  {
   "cell_type": "code",
   "execution_count": 38,
   "id": "383b95e4-9df6-4338-8ee7-0c7f45365348",
   "metadata": {},
   "outputs": [
    {
     "data": {
      "text/plain": [
       "'0b100'"
      ]
     },
     "execution_count": 38,
     "metadata": {},
     "output_type": "execute_result"
    }
   ],
   "source": [
    "bin(4)"
   ]
  },
  {
   "cell_type": "code",
   "execution_count": 39,
   "id": "2f0380d4-715e-4d95-a964-a94597ae4e2f",
   "metadata": {},
   "outputs": [
    {
     "data": {
      "text/plain": [
       "1120"
      ]
     },
     "execution_count": 39,
     "metadata": {},
     "output_type": "execute_result"
    }
   ],
   "source": [
    "35 << 5 #left shift"
   ]
  },
  {
   "cell_type": "code",
   "execution_count": 40,
   "id": "0f8f29f6-a084-41ed-bc57-c9e7ed48cecb",
   "metadata": {},
   "outputs": [
    {
     "data": {
      "text/plain": [
       "'0b10001100000'"
      ]
     },
     "execution_count": 40,
     "metadata": {},
     "output_type": "execute_result"
    }
   ],
   "source": [
    "bin(1120)"
   ]
  },
  {
   "cell_type": "code",
   "execution_count": 44,
   "id": "805940d9-30b6-40e8-a5a9-684a3745510a",
   "metadata": {},
   "outputs": [
    {
     "data": {
      "text/plain": [
       "2"
      ]
     },
     "execution_count": 44,
     "metadata": {},
     "output_type": "execute_result"
    }
   ],
   "source": [
    "#order of precedence\n",
    "x = (5+2) - (3+2)\n",
    "x\n"
   ]
  },
  {
   "cell_type": "code",
   "execution_count": null,
   "id": "3dde2241-de9d-45dd-9749-79ad46f5a4b9",
   "metadata": {},
   "outputs": [],
   "source": []
  },
  {
   "cell_type": "code",
   "execution_count": null,
   "id": "ab410a22-86af-43fb-9083-9f59be90eebc",
   "metadata": {},
   "outputs": [],
   "source": []
  },
  {
   "cell_type": "code",
   "execution_count": null,
   "id": "a6caff0d-fd4d-4bb7-9e7c-ee2aa06fe1b1",
   "metadata": {},
   "outputs": [],
   "source": []
  },
  {
   "cell_type": "code",
   "execution_count": null,
   "id": "3a2d5cac-35f4-4522-9c75-c29c38093f6a",
   "metadata": {},
   "outputs": [],
   "source": []
  },
  {
   "cell_type": "code",
   "execution_count": null,
   "id": "3c04ad77-9509-4f5b-ace2-b39e2b48a8ce",
   "metadata": {},
   "outputs": [],
   "source": []
  },
  {
   "cell_type": "code",
   "execution_count": null,
   "id": "708b20f2-c374-4d37-840b-0d42c9f8e168",
   "metadata": {},
   "outputs": [],
   "source": []
  },
  {
   "cell_type": "code",
   "execution_count": null,
   "id": "b9f66b25-5ba9-47c4-af8d-ced04a68e1b0",
   "metadata": {},
   "outputs": [],
   "source": []
  },
  {
   "cell_type": "code",
   "execution_count": null,
   "id": "49e6fc66-9e75-4f05-97c5-57934e0fbbbe",
   "metadata": {},
   "outputs": [],
   "source": []
  },
  {
   "cell_type": "code",
   "execution_count": null,
   "id": "130b4e5a-318a-4c1b-9301-bd7cf6d4bdc5",
   "metadata": {},
   "outputs": [],
   "source": []
  }
 ],
 "metadata": {
  "kernelspec": {
   "display_name": "Python 3 (ipykernel)",
   "language": "python",
   "name": "python3"
  },
  "language_info": {
   "codemirror_mode": {
    "name": "ipython",
    "version": 3
   },
   "file_extension": ".py",
   "mimetype": "text/x-python",
   "name": "python",
   "nbconvert_exporter": "python",
   "pygments_lexer": "ipython3",
   "version": "3.10.8"
  }
 },
 "nbformat": 4,
 "nbformat_minor": 5
}
