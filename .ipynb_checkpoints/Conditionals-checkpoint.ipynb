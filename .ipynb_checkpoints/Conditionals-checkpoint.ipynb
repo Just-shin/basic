{
 "cells": [
  {
   "cell_type": "code",
   "execution_count": 4,
   "id": "8059b48a-50d9-4e87-a5f4-6c683523d24a",
   "metadata": {},
   "outputs": [
    {
     "name": "stdout",
     "output_type": "stream",
     "text": [
      "the number is greater than 0\n"
     ]
    }
   ],
   "source": [
    "#if conditional statement\n",
    "x = 10\n",
    "if x > 0:\n",
    "    print(\"the number is greater than 0\")"
   ]
  },
  {
   "cell_type": "code",
   "execution_count": 7,
   "id": "c48277b3-c9ac-48ab-93d8-ebd98aa3270d",
   "metadata": {},
   "outputs": [
    {
     "name": "stdout",
     "output_type": "stream",
     "text": [
      "the number is smaller than 100\n"
     ]
    }
   ],
   "source": [
    "x = 100\n",
    "if x < 200:\n",
    "    print(\"the number is smaller than 100\")"
   ]
  },
  {
   "cell_type": "code",
   "execution_count": 14,
   "id": "09583680-0b36-461d-b2a8-c127a130e358",
   "metadata": {},
   "outputs": [
    {
     "name": "stdout",
     "output_type": "stream",
     "text": [
      "This is the number of interest\n"
     ]
    }
   ],
   "source": [
    "#multiple condition\n",
    "number = 42\n",
    "if ((number % 2 == 0) & (number > 0)):\n",
    "    print(\"This is the number of interest\")"
   ]
  },
  {
   "cell_type": "code",
   "execution_count": 4,
   "id": "834a8d86-9100-4090-a248-f1c799a666d8",
   "metadata": {},
   "outputs": [
    {
     "name": "stdout",
     "output_type": "stream",
     "text": [
      "I will watch the beach\n"
     ]
    }
   ],
   "source": [
    "#if-else condition\n",
    "seawaves = \"high\"\n",
    "if seawaves == \"low\":\n",
    "    print(\"i will go to surf\") #if condition is true this block will be executed\n",
    "else:\n",
    "    print(\"I will watch the beach\") #condition is not true else block will execute"
   ]
  },
  {
   "cell_type": "code",
   "execution_count": 7,
   "id": "c24d0a72-18f5-49ed-a02d-7d9f3a07a0f8",
   "metadata": {},
   "outputs": [
    {
     "name": "stdout",
     "output_type": "stream",
     "text": [
      "You can travel\n"
     ]
    }
   ],
   "source": [
    "bus_seat = \"40\"\n",
    "if bus_seat == \"40\":\n",
    "    print(\"You can travel\")\n",
    "else:\n",
    "    print(\"You cannot travel\")"
   ]
  },
  {
   "cell_type": "code",
   "execution_count": 25,
   "id": "19676aa5-4119-4116-bd9d-ff0f975351b8",
   "metadata": {},
   "outputs": [
    {
     "name": "stdout",
     "output_type": "stream",
     "text": [
      "you can travel standing\n"
     ]
    }
   ],
   "source": [
    "#if-elif else statement\n",
    "bus_seat = 40\n",
    "if bus_seat < 30:\n",
    "    print(\"You can travel\")\n",
    "elif bus_seat < 41:\n",
    "    print(\"you can travel standing\")\n",
    "else:\n",
    "    print(\"You cannot travel\")"
   ]
  },
  {
   "cell_type": "code",
   "execution_count": 26,
   "id": "0b37b56a-a75e-49a2-a8d5-33d0b3389f92",
   "metadata": {},
   "outputs": [
    {
     "name": "stdout",
     "output_type": "stream",
     "text": [
      "letter is A\n"
     ]
    }
   ],
   "source": [
    "# nested if..else chain statement\n",
    "letter = \"A\"\n",
    "\n",
    "if letter == \"B\":\n",
    "    print(\"letter is B\")\n",
    "\n",
    "else:\n",
    "\n",
    "    if letter == \"C\":\n",
    "        print(\"letter is C\")\n",
    "\n",
    "    else:\n",
    "\n",
    "        if letter == \"A\":\n",
    "            print(\"letter is A\")\n",
    "\n",
    "        else:\n",
    "            print(\"letter isn't A, B and C\")\n"
   ]
  },
  {
   "cell_type": "code",
   "execution_count": 29,
   "id": "2468b5e0-ed9b-4d1f-a33e-f0140c36401c",
   "metadata": {},
   "outputs": [
    {
     "name": "stdout",
     "output_type": "stream",
     "text": [
      "x is greater than 80 but y is less than 80\n",
      "x can be divided by y\n"
     ]
    }
   ],
   "source": [
    "x = 96\n",
    "y = 12\n",
    "if x > 95:\n",
    "    if y>80:\n",
    "        print(\"Both x and y is greater than 80\")\n",
    "    else:\n",
    "        print(\"x is greater than 80 but y is less than 80\")\n",
    "    if x / y:\n",
    "        print(\"x can be divided by y\")\n",
    "else:\n",
    "    print(\"x is not greater than 5\")     "
   ]
  },
  {
   "cell_type": "code",
   "execution_count": 35,
   "id": "c4ecb7d7-2d07-477b-a42d-84f91bc6c5f1",
   "metadata": {},
   "outputs": [
    {
     "name": "stdin",
     "output_type": "stream",
     "text": [
      "Please enter your name Justone singh\n",
      "Please enter your email justone@gmail\n",
      "Please enter your age 20\n",
      "Please eneter your password 123@abCdefg\n"
     ]
    },
    {
     "name": "stdout",
     "output_type": "stream",
     "text": [
      "Registration successful\n"
     ]
    }
   ],
   "source": [
    "name = input(\"Please enter your name\")\n",
    "email = input(\"Please enter your email\")\n",
    "age = input(\"Please enter your age\")\n",
    "password = input(\"Please eneter your password\")\n",
    "flag = 0 #In Python, a flag is a variable, typically a boolean (True/False),used to indicate whether a certain \n",
    "            #condition has been met or an event has occurred.It acts as a signal to control the flow of your program.\n",
    "if name == \"\":\n",
    "    print(\"This space cannot be left empty *\")\n",
    "while True:\n",
    "\tif (len(password)<=8):\n",
    "\t\tflag = -1\n",
    "\t\tbreak\n",
    "\telif not re.search(\"[a-z]\", password):\n",
    "\t\tflag = -1\n",
    "\t\tbreak\n",
    "\telif not re.search(\"[A-Z]\", password):\n",
    "\t\tflag = -1\n",
    "\t\tbreak\n",
    "\telif not re.search(\"[0-9]\", password):\n",
    "\t\tflag = -1\n",
    "\t\tbreak\n",
    "\telif not re.search(\"[_@$]\" , password):\n",
    "\t\tflag = -1\n",
    "\t\tbreak\n",
    "\telif re.search(\"\\s\" , password):\n",
    "\t\tflag = -1\n",
    "\t\tbreak\n",
    "\telse:\n",
    "\t\tflag = 0\n",
    "\t\tprint(\"Registration successful\")\n",
    "\t\tbreak\n",
    "\n",
    "if flag == -1:\n",
    "\tprint(\"Not a Valid Password \")\n",
    "    #re.search - checks for a match anywhere in the string"
   ]
  },
  {
   "cell_type": "code",
   "execution_count": null,
   "id": "453abf55-0556-4cf5-9bc3-addef79aadd0",
   "metadata": {},
   "outputs": [],
   "source": []
  },
  {
   "cell_type": "code",
   "execution_count": null,
   "id": "225fcd07-8937-4c71-a3f2-4c5b67f23c1c",
   "metadata": {},
   "outputs": [],
   "source": []
  },
  {
   "cell_type": "code",
   "execution_count": null,
   "id": "90ea6f6a-b927-40be-b34e-cfca0f0124d0",
   "metadata": {},
   "outputs": [],
   "source": []
  },
  {
   "cell_type": "code",
   "execution_count": null,
   "id": "9eedd5f0-a2e6-4988-ad71-abdcf24ca150",
   "metadata": {},
   "outputs": [],
   "source": []
  },
  {
   "cell_type": "code",
   "execution_count": null,
   "id": "647f2542-8be6-4afb-b55c-2679d3e47742",
   "metadata": {},
   "outputs": [],
   "source": []
  },
  {
   "cell_type": "code",
   "execution_count": null,
   "id": "fd23762c-6e5c-4a5c-9af3-2c5e5603036c",
   "metadata": {},
   "outputs": [],
   "source": []
  },
  {
   "cell_type": "code",
   "execution_count": null,
   "id": "5612ae97-2645-4fe4-b4a0-f63e654a3dd1",
   "metadata": {},
   "outputs": [],
   "source": []
  },
  {
   "cell_type": "code",
   "execution_count": null,
   "id": "8edd8b11-37a6-48fb-92c5-7d9a7dc45abe",
   "metadata": {},
   "outputs": [],
   "source": []
  }
 ],
 "metadata": {
  "kernelspec": {
   "display_name": "Python 3 (ipykernel)",
   "language": "python",
   "name": "python3"
  },
  "language_info": {
   "codemirror_mode": {
    "name": "ipython",
    "version": 3
   },
   "file_extension": ".py",
   "mimetype": "text/x-python",
   "name": "python",
   "nbconvert_exporter": "python",
   "pygments_lexer": "ipython3",
   "version": "3.10.8"
  }
 },
 "nbformat": 4,
 "nbformat_minor": 5
}
