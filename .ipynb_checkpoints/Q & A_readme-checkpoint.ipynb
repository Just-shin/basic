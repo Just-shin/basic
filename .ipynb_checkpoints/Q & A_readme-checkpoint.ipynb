{
 "cells": [
  {
   "cell_type": "markdown",
   "id": "509f619f-56c0-403b-b7c9-35028c0ed587",
   "metadata": {
    "jp-MarkdownHeadingCollapsed": true,
    "tags": []
   },
   "source": [
    "1. Explain the key features of python that make it a popular choice for programming.\n",
    "\n",
    "\n",
    "Answer-\n",
    "       Python is a programming language with many key features, including-  \n",
    "    a)High-level: Designed to be easier for humans to understand and write, similar to natural language \n",
    "    b)Interpreted: Executes source code line by line, rather than all at once, so it doesn't need to be compiled first. \n",
    "    c)Object-oriented: Organizes software design around objects, or data, instead of functions and logic \n",
    "    d)Free and open source \n",
    "    e)Easy to learn \n",
    "    f)Cross-platform \n",
    "    g)Supports many programming standards \n",
    "    h)Extensive library \n",
    "    i)Supports other languages \n",
    "    j)Community support.\n",
    "    It is used in many application such as web development, machine learning, data analysis etc."
   ]
  },
  {
   "cell_type": "markdown",
   "id": "96908650-9c32-4f84-abc3-7735c2f3448c",
   "metadata": {
    "jp-MarkdownHeadingCollapsed": true,
    "tags": []
   },
   "source": [
    "2. Describe the role of predefined keywords in python and provide examples of how they are used in a program.\n",
    "\n",
    "\n",
    "\n",
    "Answer-\n",
    "    In Python, predefined keywords, also known as reserved words, are words that have a special meaning and cannot be used as identifiers \n",
    "    e.g-variable names, function names.\n",
    "    They serve as the building blocks of the language and define the syntax and structure of your code. Examples - if, else, while, for, def, class, import, try, except, return, True, False etc.\n",
    "    Keywords are case sensitive. \n"
   ]
  },
  {
   "cell_type": "markdown",
   "id": "1b62ec68-52c1-4c67-ad4d-9cb3f42cb8fe",
   "metadata": {
    "jp-MarkdownHeadingCollapsed": true,
    "tags": []
   },
   "source": [
    "3. Compare and contrast mutable and immutable. Explain the key features of python that make it a popular choice for programming.\n",
    "\n",
    "\n",
    "Answer-\n",
    "       Python is a programming language with many key features, including-  \n",
    "    a)High-level: Designed to be easier for humans to understand and write, similar to natural language \n",
    "    b)Interpreted: Executes source code line by line, rather than all at once, so it doesn't need to be compiled first. \n",
    "    c)Object-oriented: Organizes software design around objects, or data, instead of functions and logic \n",
    "    d)Free and open source \n",
    "    e)Easy to learn \n",
    "    f)Cross-platform \n",
    "    g)Supports many programming standards \n",
    "    h)Extensive library \n",
    "    i)Supports other languages \n",
    "    j)Community support.\n",
    "    It is used in many application such as web development, machine learning, data analysis etc.le objects in Pythons.\n",
    "    Answer- \n",
    "   \n",
    "   MUTABLE - It can be modified after they are created. Meaning we can change their internal state without creating a new object.       Examples- lists, dictionaries, sets etc.\n",
    "    Mutable objects are not thread-safe.\n",
    "    Efficient for modifying large data structures in place.\n",
    "\n",
    "    IMMUTABLE - It cannot be modified after they are created. Any operation that appears to modify the object actually creates a new object with the updated value. examples - Strings, floats, tuples etc.\n",
    "    Immutable objects are thread-safe.\n",
    "    Can be less efficient for operations that require frequent modifications, as a new objects are created each time.\n",
    "    Can be used as keys in dictionaries."
   ]
  },
  {
   "cell_type": "markdown",
   "id": "979ecd89-196b-49ca-9917-6a12356d631a",
   "metadata": {},
   "source": [
    "4. Discuss the different types of operators in python.\n",
    "\n",
    "\n",
    "Answer-\n",
    "     Operators are special symbols or keywords that are used to carryout specific actions on numbers or variables in python expressions. We used operators to manage, do computation and make decision using data.\n",
    "    Python offers a variety of operators to perform different operations on data such as-\n",
    "    a) ARITHMETIC OPERATORS - Perform basic mathematical calculations. It adds(+),substracts(-),multiply(*),divides(/), modulus(%) which returns the remainder after dividing the left operand by the right operand, exponentiation(**)- it raises the left operand to the power of the right operand.\n",
    "    b) COMPARISION OPERATORS - Compare two operands and return a boolean value i.e., True or False.\n",
    "    Eg - equal to(==) , not equal to(!=), greater than(>), less than(<), greater than or equal to(>=), less than or equal to(<=).\n",
    "    c) LOGICAL OPERATORS - Combine multiple conditions and return a boolean value.\n",
    "    Eg - and(returns True if both operans are True), or(returns True if atleast one of the operand is True), not(Iverts the boolean value of the operand)\n",
    "    d) ASSIGNMENT OPERATORS - Used to assign values to variables.\n",
    "    Example - assingment(=), add and assign(+=), subtract and assign(-=), multiply and assign(*=), divide and assign(/=).\n",
    "    e) MEMBERSHIP OPERATORS - check if a value is a member of sequence. e.g- list, tuple, string.\n",
    "    There is in and not in membership operators, where 'in' returns True if the value is found in the sequence and 'not in' returns True if the value is not found in the sequence.\n",
    "    f) IDENTITY OPERATORS - check if two variables refer to the same object in memory.(is- returns True if both variables refer to the same object; is not- returns True if both variables refer to different objects.)\n",
    "    g) BITWISE OPERATORS - perform bitwise operations on integers.\n",
    "     AND (&), OR(|), XOR(^), NOT (~), Left shift(<<) - shifts the bits of the left operand to the left, right shift(>>) - shifts the bits of the left operand to the right."
   ]
  },
  {
   "cell_type": "markdown",
   "id": "f77c733c-3c54-4b14-b74c-c88fd89405e4",
   "metadata": {},
   "source": [
    "5) Explain the concept of type casting.\n",
    "    \n",
    "    Answer - \n",
    "    The conversion of one data type into the other data type is known as type casting or type conversion in pyhton.\n",
    "    Types of type casting in python: \n",
    "     IMPLICIT TYPE - Python automatically performs certain type conversions without the need for explicit instruction. This usually happens when operations involve different data types.\n",
    "     EXPLICIT TYPE - can convert a value to a specific data type using built-in functions like int(), float(), str(), etc."
   ]
  },
  {
   "cell_type": "markdown",
   "id": "41a8c5c0-d638-4945-86bd-96a95ada5f4c",
   "metadata": {},
   "source": [
    "6. How do conditionals statement works in python?\n",
    "\n",
    "\n",
    "Answer - \n",
    "    Python's conditional statements carry out various calculations or operations according to whether a particular boolean condition is evaluated as True or False and control the flow of program. It allow us to make decision in code, which make code more efficient and easier to read.\n",
    "    Main conditionals statement in python are -\n",
    "    a) if statement - executes a block of code only if the specified condition evaluates to True.\n",
    "    b) if-else statement - allows to execute one block of code if the condition is True, and another block if it's False.\n",
    "    c) if-elif-else statement - allows to check multiple conditions.\n",
    "     \n",
    "    \n",
    "    If the condition is True, the code block within the if statement is executed, or if the condition is False, the next elif condition,if any, or the else block, if any, is executed.\n",
    "    "
   ]
  },
  {
   "cell_type": "markdown",
   "id": "8e862b32-6dae-4f80-8658-91db0fa755dd",
   "metadata": {},
   "source": [
    "7. Describe the different types of loops in python and their use.\n",
    " \n",
    " \n",
    " Answer - \n",
    "    In python, loops are used to execute a block of code repeatedly until a specific condition is fulfilled. Python offers two primary types of loop i.e., for loop and while loops.\n",
    "    a) for loop - used to iterate over a sequence of elements, like a list, tuple, string, dictionary, or range. Executes a block of code for each item in the sequence.\n",
    "    b) while loop - used to execute a block of code as long as a condition is True. The condition is checked before each iteration.\n",
    "    \n",
    "    Important loop control statements -\n",
    "    \n",
    "    c) break - exits the loop prematurely(the condition is met it will exit the loop).\n",
    "    d) continue - skips the current iteration and moves to the next.\n",
    "    e) pass - does nothing, used as a placeholder."
   ]
  },
  {
   "cell_type": "markdown",
   "id": "f65e214d-483b-42e6-b32a-a1a246edf90d",
   "metadata": {},
   "source": []
  },
  {
   "cell_type": "markdown",
   "id": "d2d1f97f-e73f-4046-bb7f-21da50122745",
   "metadata": {},
   "source": []
  },
  {
   "cell_type": "markdown",
   "id": "6ff4b9db-c57f-4601-a1c9-4e881f041b57",
   "metadata": {},
   "source": []
  },
  {
   "cell_type": "markdown",
   "id": "ac3c8de7-0e83-42e0-883f-93cccb3f9ecf",
   "metadata": {},
   "source": []
  },
  {
   "cell_type": "markdown",
   "id": "f7efba5a-6ee8-4738-b345-d953f7d6240f",
   "metadata": {},
   "source": []
  },
  {
   "cell_type": "markdown",
   "id": "d487e1eb-02ab-4e75-a7bd-8a788a718723",
   "metadata": {},
   "source": []
  },
  {
   "cell_type": "markdown",
   "id": "4737b7e2-52e9-4047-bfc2-e2c752976dec",
   "metadata": {},
   "source": []
  },
  {
   "cell_type": "markdown",
   "id": "e567e06f-9bb4-48de-8a4e-23ab5349c8e2",
   "metadata": {},
   "source": []
  }
 ],
 "metadata": {
  "kernelspec": {
   "display_name": "Python 3 (ipykernel)",
   "language": "python",
   "name": "python3"
  },
  "language_info": {
   "codemirror_mode": {
    "name": "ipython",
    "version": 3
   },
   "file_extension": ".py",
   "mimetype": "text/x-python",
   "name": "python",
   "nbconvert_exporter": "python",
   "pygments_lexer": "ipython3",
   "version": "3.10.8"
  }
 },
 "nbformat": 4,
 "nbformat_minor": 5
}
