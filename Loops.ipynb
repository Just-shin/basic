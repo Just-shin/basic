{
 "cells": [
  {
   "cell_type": "code",
   "execution_count": 1,
   "id": "f82ac733-d82f-488c-be9d-4e4e8f7711f2",
   "metadata": {},
   "outputs": [
    {
     "name": "stdout",
     "output_type": "stream",
     "text": [
      "0\n",
      "1\n",
      "2\n",
      "3\n",
      "4\n",
      "5\n",
      "6\n",
      "7\n",
      "8\n",
      "9\n"
     ]
    }
   ],
   "source": [
    "#Loops in python\n",
    "##for loop\n",
    "n = 10\n",
    "for i in range(0, n):\n",
    "    print(i)"
   ]
  },
  {
   "cell_type": "code",
   "execution_count": 5,
   "id": "e3cc7839-bf1a-439c-b117-7a9d5252441a",
   "metadata": {},
   "outputs": [
    {
     "name": "stdout",
     "output_type": "stream",
     "text": [
      "Hello World\n",
      "In Else Block\n"
     ]
    }
   ],
   "source": [
    "#while loop\n",
    "count = 2\n",
    "while (count < 3):\n",
    "    count = count + 1\n",
    "    print(\"Hello World\")\n",
    "else:\n",
    "    print(\"In Else Block\")\n"
   ]
  },
  {
   "cell_type": "code",
   "execution_count": 6,
   "id": "6f11382f-20b2-4821-a0ed-8c341759819c",
   "metadata": {},
   "outputs": [
    {
     "name": "stdout",
     "output_type": "stream",
     "text": [
      "0\n",
      "1\n",
      "2\n"
     ]
    }
   ],
   "source": [
    "#break - the condition is met it will break or exit the loop\n",
    "for i in range(5):\n",
    "    if i == 3:\n",
    "        break\n",
    "    print(i)"
   ]
  },
  {
   "cell_type": "code",
   "execution_count": 16,
   "id": "fc0b710a-22c2-4a62-8d0a-df176788dc36",
   "metadata": {},
   "outputs": [
    {
     "name": "stdout",
     "output_type": "stream",
     "text": [
      "11\n",
      "12\n",
      "13\n",
      "14\n",
      "15\n",
      "This will be executed when the while is run successfuly without any break\n"
     ]
    }
   ],
   "source": [
    "#continue -\n",
    "a = 15\n",
    "b = 10\n",
    "while b < a:\n",
    "    b = b+1\n",
    "    if b == 3:\n",
    "        continue\n",
    "    print(b)\n",
    "else:\n",
    "    print(\"This will be executed when the while is run successfuly without any break\")"
   ]
  },
  {
   "cell_type": "code",
   "execution_count": 20,
   "id": "443afe6b-6f91-4387-95ea-93c9218c8850",
   "metadata": {},
   "outputs": [
    {
     "name": "stdout",
     "output_type": "stream",
     "text": [
      "k\n",
      "o\n",
      "l\n",
      "k\n",
      "a\n",
      "t\n",
      "a\n"
     ]
    }
   ],
   "source": [
    "#for loops >>iterate over a sequence of elements >> strings, list\n",
    "for k in \"kolkata\":\n",
    "    print(k)"
   ]
  },
  {
   "cell_type": "code",
   "execution_count": 23,
   "id": "28919232-9165-41c3-a4a0-275b19583602",
   "metadata": {},
   "outputs": [
    {
     "name": "stdout",
     "output_type": "stream",
     "text": [
      "1\n",
      "2\n",
      "Just\n",
      "kolkata\n",
      "This will be executed after the loop end\n"
     ]
    }
   ],
   "source": [
    "l = [1,2, \"Just\", \"kolkata\"]\n",
    "for i in l:\n",
    "    print(i)\n",
    "else:\n",
    "    print(\"This will be executed after the loop end\")"
   ]
  },
  {
   "cell_type": "code",
   "execution_count": 35,
   "id": "7d851ed4-dee9-4bd2-8fe1-4124f541cd4b",
   "metadata": {},
   "outputs": [
    {
     "name": "stdout",
     "output_type": "stream",
     "text": [
      "      *\n",
      "     ***\n",
      "    *****\n",
      "   *******\n",
      "  *********\n",
      " ***********\n",
      "*************\n"
     ]
    }
   ],
   "source": [
    "#triangle using for loop\n",
    "for i in range(1, n + 1):\n",
    "    for j in range(n - i):\n",
    "           print(\" \", end=\"\")\n",
    "    for k in range(1, 2*i):\n",
    "            print(\"*\", end=\"\")\n",
    "    print()"
   ]
  },
  {
   "cell_type": "code",
   "execution_count": 36,
   "id": "6b995f63-5f1d-42c7-8b28-628e92e4b311",
   "metadata": {},
   "outputs": [
    {
     "name": "stdout",
     "output_type": "stream",
     "text": [
      "* * * * \n",
      "* * * * \n",
      "* * * * \n",
      "* * * * \n"
     ]
    }
   ],
   "source": [
    "#square with while loop\n",
    "side = 1\n",
    "while side <= 4:\n",
    "    width = 1\n",
    "    while width <= 4:\n",
    "        print(\"*\", end=\" \")\n",
    "        width += 1\n",
    "    print()\n",
    "    side += 1"
   ]
  },
  {
   "cell_type": "code",
   "execution_count": null,
   "id": "a26f4660-bc95-42ef-829c-e0e0d77c4167",
   "metadata": {},
   "outputs": [],
   "source": []
  },
  {
   "cell_type": "code",
   "execution_count": null,
   "id": "7c88000b-48aa-4065-9cb9-68cb821953ef",
   "metadata": {},
   "outputs": [],
   "source": []
  },
  {
   "cell_type": "code",
   "execution_count": null,
   "id": "65e90fdf-6333-4988-9aca-dfd261323225",
   "metadata": {},
   "outputs": [],
   "source": []
  },
  {
   "cell_type": "code",
   "execution_count": null,
   "id": "3c6ec889-4c71-4ccd-88ab-576458e06ad4",
   "metadata": {},
   "outputs": [],
   "source": []
  },
  {
   "cell_type": "code",
   "execution_count": null,
   "id": "70fa435a-ba15-4201-bf0a-ef8d1000ccfd",
   "metadata": {},
   "outputs": [],
   "source": []
  }
 ],
 "metadata": {
  "kernelspec": {
   "display_name": "Python 3 (ipykernel)",
   "language": "python",
   "name": "python3"
  },
  "language_info": {
   "codemirror_mode": {
    "name": "ipython",
    "version": 3
   },
   "file_extension": ".py",
   "mimetype": "text/x-python",
   "name": "python",
   "nbconvert_exporter": "python",
   "pygments_lexer": "ipython3",
   "version": "3.10.8"
  }
 },
 "nbformat": 4,
 "nbformat_minor": 5
}
