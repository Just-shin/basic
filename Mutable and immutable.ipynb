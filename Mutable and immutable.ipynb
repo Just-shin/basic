{
 "cells": [
  {
   "cell_type": "code",
   "execution_count": 6,
   "id": "71cf62fc-b514-4f12-800a-1e9b0ab1e219",
   "metadata": {},
   "outputs": [
    {
     "data": {
      "text/plain": [
       "'justone'"
      ]
     },
     "execution_count": 6,
     "metadata": {},
     "output_type": "execute_result"
    }
   ],
   "source": [
    "a = \"justone\"\n",
    "a"
   ]
  },
  {
   "cell_type": "code",
   "execution_count": 7,
   "id": "035df83c-987b-4018-ae11-947723b479c5",
   "metadata": {},
   "outputs": [
    {
     "data": {
      "text/plain": [
       "'u'"
      ]
     },
     "execution_count": 7,
     "metadata": {},
     "output_type": "execute_result"
    }
   ],
   "source": [
    "a[1] #accessing elements through +ve and -ve indices."
   ]
  },
  {
   "cell_type": "code",
   "execution_count": 8,
   "id": "9a174f4a-46c9-460c-bf98-e05cf467a109",
   "metadata": {},
   "outputs": [
    {
     "data": {
      "text/plain": [
       "'n'"
      ]
     },
     "execution_count": 8,
     "metadata": {},
     "output_type": "execute_result"
    }
   ],
   "source": [
    "a[-2]"
   ]
  },
  {
   "cell_type": "code",
   "execution_count": 13,
   "id": "ad34a4bc-46bd-4e62-b72a-546d701fba61",
   "metadata": {},
   "outputs": [
    {
     "data": {
      "text/plain": [
       "[1, 2, 3.3, (2+5j), True, 'justone']"
      ]
     },
     "execution_count": 13,
     "metadata": {},
     "output_type": "execute_result"
    }
   ],
   "source": [
    "list_cont = [1, 2, 3.3 , 2+5j, True, \"justone\"]\n",
    "list_cont"
   ]
  },
  {
   "cell_type": "code",
   "execution_count": 14,
   "id": "2b328243-520d-4c27-9088-08e9d1260c22",
   "metadata": {},
   "outputs": [
    {
     "data": {
      "text/plain": [
       "1"
      ]
     },
     "execution_count": 14,
     "metadata": {},
     "output_type": "execute_result"
    }
   ],
   "source": [
    "list_cont[0]"
   ]
  },
  {
   "cell_type": "code",
   "execution_count": 15,
   "id": "8af876d0-1a53-4858-9085-51e2c98901cf",
   "metadata": {},
   "outputs": [
    {
     "data": {
      "text/plain": [
       "[1, 2, 3.3, (2+5j), True, 'shin']"
      ]
     },
     "execution_count": 15,
     "metadata": {},
     "output_type": "execute_result"
    }
   ],
   "source": [
    "list_cont[5] = \"shin\"\n",
    "list_cont"
   ]
  },
  {
   "cell_type": "code",
   "execution_count": 16,
   "id": "aa711888-c721-411f-a9ec-dac50e455daf",
   "metadata": {},
   "outputs": [
    {
     "data": {
      "text/plain": [
       "'justone'"
      ]
     },
     "execution_count": 16,
     "metadata": {},
     "output_type": "execute_result"
    }
   ],
   "source": [
    "a = \"justone\"\n",
    "a"
   ]
  },
  {
   "cell_type": "code",
   "execution_count": 18,
   "id": "76a735d1-9441-4096-84b2-c9fd6356a790",
   "metadata": {},
   "outputs": [
    {
     "ename": "TypeError",
     "evalue": "'str' object does not support item assignment",
     "output_type": "error",
     "traceback": [
      "\u001b[0;31m---------------------------------------------------------------------------\u001b[0m",
      "\u001b[0;31mTypeError\u001b[0m                                 Traceback (most recent call last)",
      "Cell \u001b[0;32mIn[18], line 1\u001b[0m\n\u001b[0;32m----> 1\u001b[0m \u001b[43ma\u001b[49m\u001b[43m[\u001b[49m\u001b[38;5;241;43m0\u001b[39;49m\u001b[43m]\u001b[49m \u001b[38;5;241m=\u001b[39m \u001b[38;5;124m\"\u001b[39m\u001b[38;5;124ms\u001b[39m\u001b[38;5;124m\"\u001b[39m \u001b[38;5;66;03m#str not mutable.\u001b[39;00m\n",
      "\u001b[0;31mTypeError\u001b[0m: 'str' object does not support item assignment"
     ]
    }
   ],
   "source": [
    "a[0] = \"s\" #str not mutable, i.e., immutable."
   ]
  },
  {
   "cell_type": "code",
   "execution_count": null,
   "id": "6254f061-bd91-4a3d-a095-e8000590f2e9",
   "metadata": {},
   "outputs": [],
   "source": []
  },
  {
   "cell_type": "code",
   "execution_count": null,
   "id": "210fbf66-2229-40f6-a82b-f60c3f956372",
   "metadata": {},
   "outputs": [],
   "source": []
  },
  {
   "cell_type": "code",
   "execution_count": null,
   "id": "2e9797ba-144c-4710-9456-32e852834880",
   "metadata": {},
   "outputs": [],
   "source": []
  },
  {
   "cell_type": "code",
   "execution_count": null,
   "id": "815a2984-a347-4548-9655-d746ccab88c3",
   "metadata": {},
   "outputs": [],
   "source": []
  },
  {
   "cell_type": "code",
   "execution_count": null,
   "id": "c406bb09-8b9e-480b-ae9c-1548b8d26cbe",
   "metadata": {},
   "outputs": [],
   "source": []
  },
  {
   "cell_type": "code",
   "execution_count": null,
   "id": "ca640c52-37d3-49b2-b950-1517eb355878",
   "metadata": {},
   "outputs": [],
   "source": []
  }
 ],
 "metadata": {
  "kernelspec": {
   "display_name": "Python 3 (ipykernel)",
   "language": "python",
   "name": "python3"
  },
  "language_info": {
   "codemirror_mode": {
    "name": "ipython",
    "version": 3
   },
   "file_extension": ".py",
   "mimetype": "text/x-python",
   "name": "python",
   "nbconvert_exporter": "python",
   "pygments_lexer": "ipython3",
   "version": "3.10.8"
  }
 },
 "nbformat": 4,
 "nbformat_minor": 5
}
